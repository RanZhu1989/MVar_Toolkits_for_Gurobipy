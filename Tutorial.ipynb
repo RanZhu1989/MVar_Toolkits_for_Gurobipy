{
 "cells": [
  {
   "cell_type": "markdown",
   "metadata": {},
   "source": [
    "The latest version of Gurobi (v10.0) introduced the matrix variable (Mvar) type. It is a very useful tool for modeling. However, it is not easy to access the Mvar like getVarByName() from a outside function. In this notebook, I will show you how to access the Mvar in the outside of the model."
   ]
  },
  {
   "cell_type": "code",
   "execution_count": 1,
   "metadata": {},
   "outputs": [],
   "source": [
    "import gurobipy as gp\n",
    "from gurobipy import GRB\n",
    "import numpy as np\n",
    "from MVarToolkits import _fixMvar, _getX_MvarByName"
   ]
  },
  {
   "cell_type": "markdown",
   "metadata": {},
   "source": [
    "# Function 1: Fix Mvar as a constant in a 'JuMP' manner (_fix_mvar)\n",
    "This sample is to change the value np.ndarry parameter \"b\" before solving the problem.\n",
    "To achieve this, we need to fix the value of a Mvar (b) by using the external function \"_fix_mvar\""
   ]
  },
  {
   "cell_type": "markdown",
   "metadata": {},
   "source": [
    "Case 1: b will be fixed to [4, 12, 8]\n",
    "The primal model with its optimal solution is as follows:"
   ]
  },
  {
   "cell_type": "code",
   "execution_count": 2,
   "metadata": {},
   "outputs": [
    {
     "name": "stdout",
     "output_type": "stream",
     "text": [
      "Gurobi Optimizer version 10.0.2 build v10.0.2rc0 (win64)\n",
      "\n",
      "CPU model: 13th Gen Intel(R) Core(TM) i5-1340P, instruction set [SSE2|AVX|AVX2]\n",
      "Thread count: 12 physical cores, 16 logical processors, using up to 16 threads\n",
      "\n",
      "Optimize a model with 6 rows, 5 columns and 10 nonzeros\n",
      "Model fingerprint: 0x9ddcd0ca\n",
      "Coefficient statistics:\n",
      "  Matrix range     [1e+00, 3e+00]\n",
      "  Objective range  [3e+00, 5e+00]\n",
      "  Bounds range     [0e+00, 0e+00]\n",
      "  RHS range        [4e+00, 2e+01]\n",
      "Presolve removed 5 rows and 3 columns\n",
      "Presolve time: 0.01s\n",
      "Presolved: 1 rows, 2 columns, 2 nonzeros\n",
      "\n",
      "Iteration    Objective       Primal Inf.    Dual Inf.      Time\n",
      "       0    4.5000000e+01   1.500000e+00   0.000000e+00      0s\n",
      "       1    3.6000000e+01   0.000000e+00   0.000000e+00      0s\n",
      "\n",
      "Solved in 1 iterations and 0.02 seconds (0.00 work units)\n",
      "Optimal objective  3.600000000e+01\n"
     ]
    }
   ],
   "source": [
    "model = gp.Model(\"LP\")\n",
    "\n",
    "x = model.addMVar(2, lb=0, ub=gp.GRB.INFINITY, name=\"x\")\n",
    "\n",
    "c = np.array([[3, 5]])\n",
    "A = np.array([[1, 0],\n",
    "                [0, 2],\n",
    "                [3, 2]])\n",
    "\n",
    "# b_old = np.array([4, 12, 18]) # The optimal value should be 36\n",
    "# b_new = np.array([0.5, 0.5, 0.5]) # The optimal value should be 1.25\n",
    "b = model.addMVar(shape=3,name=\"b\")\n",
    "\n",
    "model.addConstr(A @ x <= b)\n",
    "model.addConstr(b == np.array([4, 12, 18]))\n",
    "\n",
    "\n",
    "model.setObjective(c @ x, GRB.MAXIMIZE)\n",
    "\n",
    "model.update() #NOTE !! You MUST call update() method before modifying the model\n",
    "model.optimize()"
   ]
  },
  {
   "cell_type": "markdown",
   "metadata": {},
   "source": [
    "Then, we use the method \"_fix_mvar\" to fix the value of b to [4, 12, 8] and solve the problem again."
   ]
  },
  {
   "cell_type": "code",
   "execution_count": 3,
   "metadata": {},
   "outputs": [
    {
     "name": "stdout",
     "output_type": "stream",
     "text": [
      "Gurobi Optimizer version 10.0.2 build v10.0.2rc0 (win64)\n",
      "\n",
      "CPU model: 13th Gen Intel(R) Core(TM) i5-1340P, instruction set [SSE2|AVX|AVX2]\n",
      "Thread count: 12 physical cores, 16 logical processors, using up to 16 threads\n",
      "\n",
      "Optimize a model with 6 rows, 5 columns and 10 nonzeros\n",
      "Model fingerprint: 0x9ddcd0ca\n",
      "Coefficient statistics:\n",
      "  Matrix range     [1e+00, 3e+00]\n",
      "  Objective range  [3e+00, 5e+00]\n",
      "  Bounds range     [0e+00, 0e+00]\n",
      "  RHS range        [4e+00, 2e+01]\n",
      "Presolve removed 5 rows and 3 columns\n",
      "Presolve time: 0.01s\n",
      "Presolved: 1 rows, 2 columns, 2 nonzeros\n",
      "\n",
      "Iteration    Objective       Primal Inf.    Dual Inf.      Time\n",
      "       0    4.5000000e+01   1.500000e+00   0.000000e+00      0s\n",
      "       1    3.6000000e+01   0.000000e+00   0.000000e+00      0s\n",
      "\n",
      "Solved in 1 iterations and 0.01 seconds (0.00 work units)\n",
      "Optimal objective  3.600000000e+01\n"
     ]
    }
   ],
   "source": [
    "model = gp.Model(\"LP\")\n",
    "\n",
    "x = model.addMVar(2, lb=0, ub=gp.GRB.INFINITY, name=\"x\")\n",
    "\n",
    "c = np.array([[3, 5]])\n",
    "A = np.array([[1, 0],\n",
    "                [0, 2],\n",
    "                [3, 2]])\n",
    "\n",
    "# b_old = np.array([4, 12, 18]) # The optimal value should be 36\n",
    "# b_new = np.array([0.5, 0.5, 0.5]) # The optimal value should be 1.25\n",
    "b = model.addMVar(shape=3,name=\"b\")\n",
    "\n",
    "model.addConstr(A @ x <= b)\n",
    "\n",
    "model.setObjective(c @ x, GRB.MAXIMIZE)\n",
    "\n",
    "model.update()\n",
    "\n",
    "b_old = np.array([4, 12, 18])    \n",
    "_fixMvar(model=model,mvar_name=\"b\",shape=[3],value=b_old,cons_name=\"fix_b\")\n",
    "model.optimize()"
   ]
  },
  {
   "cell_type": "markdown",
   "metadata": {},
   "source": [
    "Case 2: b will be fixed to [0.5, 0.5, 0.5]"
   ]
  },
  {
   "cell_type": "code",
   "execution_count": 4,
   "metadata": {},
   "outputs": [
    {
     "name": "stdout",
     "output_type": "stream",
     "text": [
      "Gurobi Optimizer version 10.0.2 build v10.0.2rc0 (win64)\n",
      "\n",
      "CPU model: 13th Gen Intel(R) Core(TM) i5-1340P, instruction set [SSE2|AVX|AVX2]\n",
      "Thread count: 12 physical cores, 16 logical processors, using up to 16 threads\n",
      "\n",
      "Optimize a model with 6 rows, 5 columns and 10 nonzeros\n",
      "Model fingerprint: 0x78093ce5\n",
      "Coefficient statistics:\n",
      "  Matrix range     [1e+00, 3e+00]\n",
      "  Objective range  [3e+00, 5e+00]\n",
      "  Bounds range     [0e+00, 0e+00]\n",
      "  RHS range        [5e-01, 5e-01]\n",
      "Presolve removed 6 rows and 5 columns\n",
      "Presolve time: 0.00s\n",
      "Presolve: All rows and columns removed\n",
      "Iteration    Objective       Primal Inf.    Dual Inf.      Time\n",
      "       0    1.2500000e+00   0.000000e+00   0.000000e+00      0s\n",
      "\n",
      "Solved in 0 iterations and 0.01 seconds (0.00 work units)\n",
      "Optimal objective  1.250000000e+00\n"
     ]
    }
   ],
   "source": [
    "model = gp.Model(\"LP\")\n",
    "\n",
    "x = model.addMVar(2, lb=0, ub=gp.GRB.INFINITY, name=\"x\")\n",
    "\n",
    "c = np.array([[3, 5]])\n",
    "A = np.array([[1, 0],\n",
    "                [0, 2],\n",
    "                [3, 2]])\n",
    "\n",
    "# b_old = np.array([4, 12, 18]) # The optimal value should be 36\n",
    "# b_new = np.array([0.5, 0.5, 0.5]) # The optimal value should be 1.25\n",
    "b = model.addMVar(shape=3,name=\"b\")\n",
    "\n",
    "model.addConstr(A @ x <= b)\n",
    "model.addConstr(b == np.array([0.5, 0.5, 0.5]))\n",
    "\n",
    "\n",
    "model.setObjective(c @ x, GRB.MAXIMIZE)\n",
    "\n",
    "model.update()\n",
    "model.optimize()"
   ]
  },
  {
   "cell_type": "code",
   "execution_count": 5,
   "metadata": {},
   "outputs": [
    {
     "name": "stdout",
     "output_type": "stream",
     "text": [
      "Gurobi Optimizer version 10.0.2 build v10.0.2rc0 (win64)\n",
      "\n",
      "CPU model: 13th Gen Intel(R) Core(TM) i5-1340P, instruction set [SSE2|AVX|AVX2]\n",
      "Thread count: 12 physical cores, 16 logical processors, using up to 16 threads\n",
      "\n",
      "Optimize a model with 6 rows, 5 columns and 10 nonzeros\n",
      "Model fingerprint: 0x78093ce5\n",
      "Coefficient statistics:\n",
      "  Matrix range     [1e+00, 3e+00]\n",
      "  Objective range  [3e+00, 5e+00]\n",
      "  Bounds range     [0e+00, 0e+00]\n",
      "  RHS range        [5e-01, 5e-01]\n",
      "Presolve removed 6 rows and 5 columns\n",
      "Presolve time: 0.01s\n",
      "Presolve: All rows and columns removed\n",
      "Iteration    Objective       Primal Inf.    Dual Inf.      Time\n",
      "       0    1.2500000e+00   0.000000e+00   0.000000e+00      0s\n",
      "\n",
      "Solved in 0 iterations and 0.01 seconds (0.00 work units)\n",
      "Optimal objective  1.250000000e+00\n"
     ]
    }
   ],
   "source": [
    "model = gp.Model(\"LP\")\n",
    "\n",
    "x = model.addMVar(2, lb=0, ub=gp.GRB.INFINITY, name=\"x\")\n",
    "\n",
    "c = np.array([[3, 5]])\n",
    "A = np.array([[1, 0],\n",
    "                [0, 2],\n",
    "                [3, 2]])\n",
    "\n",
    "# b_old = np.array([4, 12, 18]) # The optimal value should be 36\n",
    "# b_new = np.array([0.5, 0.5, 0.5]) # The optimal value should be 1.25\n",
    "b = model.addMVar(shape=3,name=\"b\")\n",
    "\n",
    "model.addConstr(A @ x <= b)\n",
    "\n",
    "model.setObjective(c @ x, GRB.MAXIMIZE)\n",
    "\n",
    "model.update()\n",
    "\n",
    "b_new = np.array([0.5, 0.5, 0.5])\n",
    "_fixMvar(model=model,mvar_name=\"b\",shape=[3],value=b_new, cons_name=\"fix_b\")\n",
    "model.optimize()"
   ]
  },
  {
   "cell_type": "markdown",
   "metadata": {},
   "source": [
    "# 2. Function 2: Get the value of Mvar in the outside of the model (_get_mvar)\n",
    "\n",
    "This sample is to get the value of Mvar \"b\" after solving the problem."
   ]
  },
  {
   "cell_type": "code",
   "execution_count": 9,
   "metadata": {},
   "outputs": [
    {
     "data": {
      "text/plain": [
       "array([0.  , 0.25])"
      ]
     },
     "execution_count": 9,
     "metadata": {},
     "output_type": "execute_result"
    }
   ],
   "source": [
    "_getX_MvarByName(model=model,mvar_name=\"x\",shape=[2])"
   ]
  }
 ],
 "metadata": {
  "kernelspec": {
   "display_name": "torch2_py38",
   "language": "python",
   "name": "python3"
  },
  "language_info": {
   "codemirror_mode": {
    "name": "ipython",
    "version": 3
   },
   "file_extension": ".py",
   "mimetype": "text/x-python",
   "name": "python",
   "nbconvert_exporter": "python",
   "pygments_lexer": "ipython3",
   "version": "3.8.17"
  },
  "orig_nbformat": 4
 },
 "nbformat": 4,
 "nbformat_minor": 2
}
